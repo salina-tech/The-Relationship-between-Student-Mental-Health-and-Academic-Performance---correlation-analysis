{
 "cells": [
  {
   "cell_type": "code",
   "execution_count": 1,
   "metadata": {},
   "outputs": [],
   "source": [
    "import pandas as pandaboi\n",
    "import numpy as np\n",
    "import matplotlib as mpl\n",
    "import matplotlib.pyplot as plt"
   ]
  },
  {
   "cell_type": "code",
   "execution_count": 2,
   "metadata": {},
   "outputs": [],
   "source": [
    "DIRECTORY_PATH = '/Users/S/Downloads'\n",
    "FILE_NAME = \"Student Mental health.csv\""
   ]
  },
  {
   "attachments": {},
   "cell_type": "markdown",
   "metadata": {},
   "source": [
    "# Pre-processing\n",
    "- Visualising the dataset\n",
    "- Renaming variables\n",
    "- Removing blank spaces"
   ]
  },
  {
   "cell_type": "code",
   "execution_count": 3,
   "metadata": {},
   "outputs": [],
   "source": [
    "# Load data\n",
    "df = pandaboi.read_csv(f'{DIRECTORY_PATH}/{FILE_NAME}')"
   ]
  },
  {
   "cell_type": "code",
   "execution_count": 4,
   "metadata": {},
   "outputs": [
    {
     "data": {
      "text/html": [
       "<div>\n",
       "<style scoped>\n",
       "    .dataframe tbody tr th:only-of-type {\n",
       "        vertical-align: middle;\n",
       "    }\n",
       "\n",
       "    .dataframe tbody tr th {\n",
       "        vertical-align: top;\n",
       "    }\n",
       "\n",
       "    .dataframe thead th {\n",
       "        text-align: right;\n",
       "    }\n",
       "</style>\n",
       "<table border=\"1\" class=\"dataframe\">\n",
       "  <thead>\n",
       "    <tr style=\"text-align: right;\">\n",
       "      <th></th>\n",
       "      <th>Timestamp</th>\n",
       "      <th>Choose your gender</th>\n",
       "      <th>Age</th>\n",
       "      <th>What is your course?</th>\n",
       "      <th>Your current year of Study</th>\n",
       "      <th>What is your CGPA?</th>\n",
       "      <th>Marital status</th>\n",
       "      <th>Do you have Depression?</th>\n",
       "      <th>Do you have Anxiety?</th>\n",
       "      <th>Do you have Panic attack?</th>\n",
       "      <th>Did you seek any specialist for a treatment?</th>\n",
       "    </tr>\n",
       "  </thead>\n",
       "  <tbody>\n",
       "    <tr>\n",
       "      <th>0</th>\n",
       "      <td>8/7/2020 12:02</td>\n",
       "      <td>Female</td>\n",
       "      <td>18.0</td>\n",
       "      <td>Engineering</td>\n",
       "      <td>year 1</td>\n",
       "      <td>3.00 - 3.49</td>\n",
       "      <td>No</td>\n",
       "      <td>Yes</td>\n",
       "      <td>No</td>\n",
       "      <td>Yes</td>\n",
       "      <td>No</td>\n",
       "    </tr>\n",
       "    <tr>\n",
       "      <th>1</th>\n",
       "      <td>8/7/2020 12:04</td>\n",
       "      <td>Male</td>\n",
       "      <td>21.0</td>\n",
       "      <td>Islamic education</td>\n",
       "      <td>year 2</td>\n",
       "      <td>3.00 - 3.49</td>\n",
       "      <td>No</td>\n",
       "      <td>No</td>\n",
       "      <td>Yes</td>\n",
       "      <td>No</td>\n",
       "      <td>No</td>\n",
       "    </tr>\n",
       "    <tr>\n",
       "      <th>2</th>\n",
       "      <td>8/7/2020 12:05</td>\n",
       "      <td>Male</td>\n",
       "      <td>19.0</td>\n",
       "      <td>BIT</td>\n",
       "      <td>Year 1</td>\n",
       "      <td>3.00 - 3.49</td>\n",
       "      <td>No</td>\n",
       "      <td>Yes</td>\n",
       "      <td>Yes</td>\n",
       "      <td>Yes</td>\n",
       "      <td>No</td>\n",
       "    </tr>\n",
       "    <tr>\n",
       "      <th>3</th>\n",
       "      <td>8/7/2020 12:06</td>\n",
       "      <td>Female</td>\n",
       "      <td>22.0</td>\n",
       "      <td>Laws</td>\n",
       "      <td>year 3</td>\n",
       "      <td>3.00 - 3.49</td>\n",
       "      <td>Yes</td>\n",
       "      <td>Yes</td>\n",
       "      <td>No</td>\n",
       "      <td>No</td>\n",
       "      <td>No</td>\n",
       "    </tr>\n",
       "    <tr>\n",
       "      <th>4</th>\n",
       "      <td>8/7/2020 12:13</td>\n",
       "      <td>Male</td>\n",
       "      <td>23.0</td>\n",
       "      <td>Mathemathics</td>\n",
       "      <td>year 4</td>\n",
       "      <td>3.00 - 3.49</td>\n",
       "      <td>No</td>\n",
       "      <td>No</td>\n",
       "      <td>No</td>\n",
       "      <td>No</td>\n",
       "      <td>No</td>\n",
       "    </tr>\n",
       "  </tbody>\n",
       "</table>\n",
       "</div>"
      ],
      "text/plain": [
       "        Timestamp Choose your gender   Age What is your course?  \\\n",
       "0  8/7/2020 12:02             Female  18.0          Engineering   \n",
       "1  8/7/2020 12:04               Male  21.0    Islamic education   \n",
       "2  8/7/2020 12:05               Male  19.0                  BIT   \n",
       "3  8/7/2020 12:06             Female  22.0                 Laws   \n",
       "4  8/7/2020 12:13               Male  23.0         Mathemathics   \n",
       "\n",
       "  Your current year of Study What is your CGPA? Marital status  \\\n",
       "0                     year 1        3.00 - 3.49             No   \n",
       "1                     year 2        3.00 - 3.49             No   \n",
       "2                     Year 1        3.00 - 3.49             No   \n",
       "3                     year 3        3.00 - 3.49            Yes   \n",
       "4                     year 4        3.00 - 3.49             No   \n",
       "\n",
       "  Do you have Depression? Do you have Anxiety? Do you have Panic attack?  \\\n",
       "0                     Yes                   No                       Yes   \n",
       "1                      No                  Yes                        No   \n",
       "2                     Yes                  Yes                       Yes   \n",
       "3                     Yes                   No                        No   \n",
       "4                      No                   No                        No   \n",
       "\n",
       "  Did you seek any specialist for a treatment?  \n",
       "0                                           No  \n",
       "1                                           No  \n",
       "2                                           No  \n",
       "3                                           No  \n",
       "4                                           No  "
      ]
     },
     "execution_count": 4,
     "metadata": {},
     "output_type": "execute_result"
    }
   ],
   "source": [
    "# Visualise dataset\n",
    "df.head()"
   ]
  },
  {
   "cell_type": "code",
   "execution_count": 5,
   "metadata": {},
   "outputs": [
    {
     "data": {
      "text/plain": [
       "Timestamp                                        object\n",
       "Choose your gender                               object\n",
       "Age                                             float64\n",
       "What is your course?                             object\n",
       "Your current year of Study                       object\n",
       "What is your CGPA?                               object\n",
       "Marital status                                   object\n",
       "Do you have Depression?                          object\n",
       "Do you have Anxiety?                             object\n",
       "Do you have Panic attack?                        object\n",
       "Did you seek any specialist for a treatment?     object\n",
       "dtype: object"
      ]
     },
     "execution_count": 5,
     "metadata": {},
     "output_type": "execute_result"
    }
   ],
   "source": [
    "# Check data type\n",
    "df.dtypes "
   ]
  },
  {
   "cell_type": "code",
   "execution_count": 6,
   "metadata": {},
   "outputs": [],
   "source": [
    "# Rename variables in the dataset\n",
    "df.rename(columns={\n",
    "    'Choose your gender':'Gender', \n",
    "    'What is your course?':'Course',\n",
    "    'Your current year of Study':'Current year',\n",
    "    'What is your CGPA?':'CGPA', \n",
    "    'Do you have Depression?':'Depression', \n",
    "    'Do you have Anxiety?':'Anxiety',\n",
    "    'Do you have Panic attack?':'Panic attacks',\n",
    "    'Did you seek any specialist for a treatment?':'Seek specialist'\n",
    "    }, inplace=True)"
   ]
  },
  {
   "cell_type": "code",
   "execution_count": 7,
   "metadata": {},
   "outputs": [
    {
     "data": {
      "text/html": [
       "<div>\n",
       "<style scoped>\n",
       "    .dataframe tbody tr th:only-of-type {\n",
       "        vertical-align: middle;\n",
       "    }\n",
       "\n",
       "    .dataframe tbody tr th {\n",
       "        vertical-align: top;\n",
       "    }\n",
       "\n",
       "    .dataframe thead th {\n",
       "        text-align: right;\n",
       "    }\n",
       "</style>\n",
       "<table border=\"1\" class=\"dataframe\">\n",
       "  <thead>\n",
       "    <tr style=\"text-align: right;\">\n",
       "      <th></th>\n",
       "      <th>Timestamp</th>\n",
       "      <th>Gender</th>\n",
       "      <th>Age</th>\n",
       "      <th>Course</th>\n",
       "      <th>Current year</th>\n",
       "      <th>CGPA</th>\n",
       "      <th>Marital status</th>\n",
       "      <th>Depression</th>\n",
       "      <th>Anxiety</th>\n",
       "      <th>Panic attacks</th>\n",
       "      <th>Seek specialist</th>\n",
       "    </tr>\n",
       "  </thead>\n",
       "  <tbody>\n",
       "    <tr>\n",
       "      <th>0</th>\n",
       "      <td>8/7/2020 12:02</td>\n",
       "      <td>Female</td>\n",
       "      <td>18.0</td>\n",
       "      <td>Engineering</td>\n",
       "      <td>year 1</td>\n",
       "      <td>3.00 - 3.49</td>\n",
       "      <td>No</td>\n",
       "      <td>Yes</td>\n",
       "      <td>No</td>\n",
       "      <td>Yes</td>\n",
       "      <td>No</td>\n",
       "    </tr>\n",
       "    <tr>\n",
       "      <th>1</th>\n",
       "      <td>8/7/2020 12:04</td>\n",
       "      <td>Male</td>\n",
       "      <td>21.0</td>\n",
       "      <td>Islamic education</td>\n",
       "      <td>year 2</td>\n",
       "      <td>3.00 - 3.49</td>\n",
       "      <td>No</td>\n",
       "      <td>No</td>\n",
       "      <td>Yes</td>\n",
       "      <td>No</td>\n",
       "      <td>No</td>\n",
       "    </tr>\n",
       "    <tr>\n",
       "      <th>2</th>\n",
       "      <td>8/7/2020 12:05</td>\n",
       "      <td>Male</td>\n",
       "      <td>19.0</td>\n",
       "      <td>BIT</td>\n",
       "      <td>Year 1</td>\n",
       "      <td>3.00 - 3.49</td>\n",
       "      <td>No</td>\n",
       "      <td>Yes</td>\n",
       "      <td>Yes</td>\n",
       "      <td>Yes</td>\n",
       "      <td>No</td>\n",
       "    </tr>\n",
       "    <tr>\n",
       "      <th>3</th>\n",
       "      <td>8/7/2020 12:06</td>\n",
       "      <td>Female</td>\n",
       "      <td>22.0</td>\n",
       "      <td>Laws</td>\n",
       "      <td>year 3</td>\n",
       "      <td>3.00 - 3.49</td>\n",
       "      <td>Yes</td>\n",
       "      <td>Yes</td>\n",
       "      <td>No</td>\n",
       "      <td>No</td>\n",
       "      <td>No</td>\n",
       "    </tr>\n",
       "    <tr>\n",
       "      <th>4</th>\n",
       "      <td>8/7/2020 12:13</td>\n",
       "      <td>Male</td>\n",
       "      <td>23.0</td>\n",
       "      <td>Mathemathics</td>\n",
       "      <td>year 4</td>\n",
       "      <td>3.00 - 3.49</td>\n",
       "      <td>No</td>\n",
       "      <td>No</td>\n",
       "      <td>No</td>\n",
       "      <td>No</td>\n",
       "      <td>No</td>\n",
       "    </tr>\n",
       "  </tbody>\n",
       "</table>\n",
       "</div>"
      ],
      "text/plain": [
       "        Timestamp  Gender   Age             Course Current year         CGPA  \\\n",
       "0  8/7/2020 12:02  Female  18.0        Engineering       year 1  3.00 - 3.49   \n",
       "1  8/7/2020 12:04    Male  21.0  Islamic education       year 2  3.00 - 3.49   \n",
       "2  8/7/2020 12:05    Male  19.0                BIT       Year 1  3.00 - 3.49   \n",
       "3  8/7/2020 12:06  Female  22.0               Laws       year 3  3.00 - 3.49   \n",
       "4  8/7/2020 12:13    Male  23.0       Mathemathics       year 4  3.00 - 3.49   \n",
       "\n",
       "  Marital status Depression Anxiety Panic attacks Seek specialist  \n",
       "0             No        Yes      No           Yes              No  \n",
       "1             No         No     Yes            No              No  \n",
       "2             No        Yes     Yes           Yes              No  \n",
       "3            Yes        Yes      No            No              No  \n",
       "4             No         No      No            No              No  "
      ]
     },
     "execution_count": 7,
     "metadata": {},
     "output_type": "execute_result"
    }
   ],
   "source": [
    "# Show dataset with new variable names\n",
    "df.head()"
   ]
  },
  {
   "cell_type": "code",
   "execution_count": 8,
   "metadata": {},
   "outputs": [
    {
     "data": {
      "text/plain": [
       "array(['3.00 - 3.49', '3.50 - 4.00', '3.50 - 4.00 ', '2.50 - 2.99',\n",
       "       '2.00 - 2.49', '0 - 1.99'], dtype=object)"
      ]
     },
     "execution_count": 8,
     "metadata": {},
     "output_type": "execute_result"
    }
   ],
   "source": [
    "# Show categories within the CGPA variable\n",
    "df[\"CGPA\"].unique()"
   ]
  },
  {
   "cell_type": "code",
   "execution_count": 9,
   "metadata": {},
   "outputs": [
    {
     "data": {
      "text/html": [
       "<div>\n",
       "<style scoped>\n",
       "    .dataframe tbody tr th:only-of-type {\n",
       "        vertical-align: middle;\n",
       "    }\n",
       "\n",
       "    .dataframe tbody tr th {\n",
       "        vertical-align: top;\n",
       "    }\n",
       "\n",
       "    .dataframe thead th {\n",
       "        text-align: right;\n",
       "    }\n",
       "</style>\n",
       "<table border=\"1\" class=\"dataframe\">\n",
       "  <thead>\n",
       "    <tr style=\"text-align: right;\">\n",
       "      <th></th>\n",
       "      <th>Timestamp</th>\n",
       "      <th>Gender</th>\n",
       "      <th>Age</th>\n",
       "      <th>Course</th>\n",
       "      <th>Current year</th>\n",
       "      <th>CGPA</th>\n",
       "      <th>Marital status</th>\n",
       "      <th>Depression</th>\n",
       "      <th>Anxiety</th>\n",
       "      <th>Panic attacks</th>\n",
       "      <th>Seek specialist</th>\n",
       "    </tr>\n",
       "  </thead>\n",
       "  <tbody>\n",
       "    <tr>\n",
       "      <th>0</th>\n",
       "      <td>8/7/2020 12:02</td>\n",
       "      <td>Female</td>\n",
       "      <td>18.0</td>\n",
       "      <td>Engineering</td>\n",
       "      <td>year 1</td>\n",
       "      <td>3.00 - 3.49</td>\n",
       "      <td>No</td>\n",
       "      <td>Yes</td>\n",
       "      <td>No</td>\n",
       "      <td>Yes</td>\n",
       "      <td>No</td>\n",
       "    </tr>\n",
       "    <tr>\n",
       "      <th>1</th>\n",
       "      <td>8/7/2020 12:04</td>\n",
       "      <td>Male</td>\n",
       "      <td>21.0</td>\n",
       "      <td>Islamic education</td>\n",
       "      <td>year 2</td>\n",
       "      <td>3.00 - 3.49</td>\n",
       "      <td>No</td>\n",
       "      <td>No</td>\n",
       "      <td>Yes</td>\n",
       "      <td>No</td>\n",
       "      <td>No</td>\n",
       "    </tr>\n",
       "    <tr>\n",
       "      <th>2</th>\n",
       "      <td>8/7/2020 12:05</td>\n",
       "      <td>Male</td>\n",
       "      <td>19.0</td>\n",
       "      <td>BIT</td>\n",
       "      <td>Year 1</td>\n",
       "      <td>3.00 - 3.49</td>\n",
       "      <td>No</td>\n",
       "      <td>Yes</td>\n",
       "      <td>Yes</td>\n",
       "      <td>Yes</td>\n",
       "      <td>No</td>\n",
       "    </tr>\n",
       "    <tr>\n",
       "      <th>3</th>\n",
       "      <td>8/7/2020 12:06</td>\n",
       "      <td>Female</td>\n",
       "      <td>22.0</td>\n",
       "      <td>Laws</td>\n",
       "      <td>year 3</td>\n",
       "      <td>3.00 - 3.49</td>\n",
       "      <td>Yes</td>\n",
       "      <td>Yes</td>\n",
       "      <td>No</td>\n",
       "      <td>No</td>\n",
       "      <td>No</td>\n",
       "    </tr>\n",
       "    <tr>\n",
       "      <th>4</th>\n",
       "      <td>8/7/2020 12:13</td>\n",
       "      <td>Male</td>\n",
       "      <td>23.0</td>\n",
       "      <td>Mathemathics</td>\n",
       "      <td>year 4</td>\n",
       "      <td>3.00 - 3.49</td>\n",
       "      <td>No</td>\n",
       "      <td>No</td>\n",
       "      <td>No</td>\n",
       "      <td>No</td>\n",
       "      <td>No</td>\n",
       "    </tr>\n",
       "  </tbody>\n",
       "</table>\n",
       "</div>"
      ],
      "text/plain": [
       "        Timestamp  Gender   Age             Course Current year         CGPA  \\\n",
       "0  8/7/2020 12:02  Female  18.0        Engineering       year 1  3.00 - 3.49   \n",
       "1  8/7/2020 12:04    Male  21.0  Islamic education       year 2  3.00 - 3.49   \n",
       "2  8/7/2020 12:05    Male  19.0                BIT       Year 1  3.00 - 3.49   \n",
       "3  8/7/2020 12:06  Female  22.0               Laws       year 3  3.00 - 3.49   \n",
       "4  8/7/2020 12:13    Male  23.0       Mathemathics       year 4  3.00 - 3.49   \n",
       "\n",
       "  Marital status Depression Anxiety Panic attacks Seek specialist  \n",
       "0             No        Yes      No           Yes              No  \n",
       "1             No         No     Yes            No              No  \n",
       "2             No        Yes     Yes           Yes              No  \n",
       "3            Yes        Yes      No            No              No  \n",
       "4             No         No      No            No              No  "
      ]
     },
     "execution_count": 9,
     "metadata": {},
     "output_type": "execute_result"
    }
   ],
   "source": [
    "# Remove blank spaces\n",
    "df['CGPA'] = df['CGPA'].str.strip()\n",
    "df.head()"
   ]
  },
  {
   "cell_type": "code",
   "execution_count": 10,
   "metadata": {},
   "outputs": [
    {
     "data": {
      "text/plain": [
       "Timestamp          0.000000\n",
       "Gender             0.000000\n",
       "Age                0.000099\n",
       "Course             0.000000\n",
       "Current year       0.000000\n",
       "CGPA               0.000000\n",
       "Marital status     0.000000\n",
       "Depression         0.000000\n",
       "Anxiety            0.000000\n",
       "Panic attacks      0.000000\n",
       "Seek specialist    0.000000\n",
       "dtype: float64"
      ]
     },
     "execution_count": 10,
     "metadata": {},
     "output_type": "execute_result"
    }
   ],
   "source": [
    "## Explore missing values per each column and express their counts as percentages\n",
    "(df.isna().sum()) / (len(df) * 100)"
   ]
  },
  {
   "attachments": {},
   "cell_type": "markdown",
   "metadata": {},
   "source": [
    "# Exploratory data analysis\n",
    "- Descriptives of the population\n",
    "- Distribution of numeric variables (visualised)\n",
    "- Counting and visualising the number of students in the category CGPA\n",
    "- Counting and visualising the number of students in the category CGPA stratified by current year of study"
   ]
  },
  {
   "cell_type": "code",
   "execution_count": 11,
   "metadata": {},
   "outputs": [
    {
     "data": {
      "text/html": [
       "<div>\n",
       "<style scoped>\n",
       "    .dataframe tbody tr th:only-of-type {\n",
       "        vertical-align: middle;\n",
       "    }\n",
       "\n",
       "    .dataframe tbody tr th {\n",
       "        vertical-align: top;\n",
       "    }\n",
       "\n",
       "    .dataframe thead th {\n",
       "        text-align: right;\n",
       "    }\n",
       "</style>\n",
       "<table border=\"1\" class=\"dataframe\">\n",
       "  <thead>\n",
       "    <tr style=\"text-align: right;\">\n",
       "      <th></th>\n",
       "      <th>Age</th>\n",
       "    </tr>\n",
       "  </thead>\n",
       "  <tbody>\n",
       "    <tr>\n",
       "      <th>count</th>\n",
       "      <td>100.00</td>\n",
       "    </tr>\n",
       "    <tr>\n",
       "      <th>mean</th>\n",
       "      <td>20.53</td>\n",
       "    </tr>\n",
       "    <tr>\n",
       "      <th>std</th>\n",
       "      <td>2.50</td>\n",
       "    </tr>\n",
       "    <tr>\n",
       "      <th>min</th>\n",
       "      <td>18.00</td>\n",
       "    </tr>\n",
       "    <tr>\n",
       "      <th>25%</th>\n",
       "      <td>18.00</td>\n",
       "    </tr>\n",
       "    <tr>\n",
       "      <th>50%</th>\n",
       "      <td>19.00</td>\n",
       "    </tr>\n",
       "    <tr>\n",
       "      <th>75%</th>\n",
       "      <td>23.00</td>\n",
       "    </tr>\n",
       "    <tr>\n",
       "      <th>max</th>\n",
       "      <td>24.00</td>\n",
       "    </tr>\n",
       "  </tbody>\n",
       "</table>\n",
       "</div>"
      ],
      "text/plain": [
       "          Age\n",
       "count  100.00\n",
       "mean    20.53\n",
       "std      2.50\n",
       "min     18.00\n",
       "25%     18.00\n",
       "50%     19.00\n",
       "75%     23.00\n",
       "max     24.00"
      ]
     },
     "execution_count": 11,
     "metadata": {},
     "output_type": "execute_result"
    }
   ],
   "source": [
    "# Descriptive statistics\n",
    "round(df.describe(), 2)"
   ]
  },
  {
   "cell_type": "code",
   "execution_count": 12,
   "metadata": {},
   "outputs": [
    {
     "data": {
      "text/plain": [
       "array([<Axes: title={'center': 'Age'}, xlabel='Age', ylabel='Count'>],\n",
       "      dtype=object)"
      ]
     },
     "execution_count": 12,
     "metadata": {},
     "output_type": "execute_result"
    },
    {
     "data": {
      "image/png": "[encoded data removed]",
      "text/plain": [
       "<Figure size 400x400 with 1 Axes>"
      ]
     },
     "metadata": {},
     "output_type": "display_data"
    }
   ],
   "source": [
    "# Distribution histograms \n",
    "fig, ax = plt.subplots(figsize = (4, 4), dpi = 100)\n",
    "plt.xlabel('Age')\n",
    "plt.ylabel('Count')\n",
    "df.hist(ax = ax)"
   ]
  },
  {
   "cell_type": "code",
   "execution_count": 13,
   "metadata": {},
   "outputs": [
    {
     "data": {
      "text/plain": [
       "3.50 - 4.00    48\n",
       "3.00 - 3.49    43\n",
       "2.50 - 2.99     4\n",
       "0 - 1.99        4\n",
       "2.00 - 2.49     2\n",
       "Name: CGPA, dtype: int64"
      ]
     },
     "execution_count": 13,
     "metadata": {},
     "output_type": "execute_result"
    }
   ],
   "source": [
    "# Check count\n",
    "count = df['CGPA'].value_counts()\n",
    "count.head()"
   ]
  },
  {
   "cell_type": "code",
   "execution_count": 14,
   "metadata": {},
   "outputs": [],
   "source": [
    "# Update order of CGPA\n",
    "category_order = ['0 - 1.99', '2.00 - 2.49', '2.50 - 2.99', '3.00 - 3.49', '3.50 - 4.00']\n",
    "df['CGPA'] = pandaboi.Categorical(df['CGPA'], categories=category_order, ordered=True)"
   ]
  },
  {
   "cell_type": "code",
   "execution_count": 15,
   "metadata": {},
   "outputs": [
    {
     "data": {
      "text/plain": [
       "Text(0, 0.5, 'Count')"
      ]
     },
     "execution_count": 15,
     "metadata": {},
     "output_type": "execute_result"
    },
    {
     "data": {
      "image/png": "[encoded data removed]",
      "text/plain": [
       "<Figure size 640x480 with 1 Axes>"
      ]
     },
     "metadata": {},
     "output_type": "display_data"
    }
   ],
   "source": [
    "# Visualise CGPA plot\n",
    "\n",
    "df[\"CGPA\"].value_counts().sort_index().plot(kind=\"bar\")\n",
    "\n",
    "# set chart title and axis labels\n",
    "plt.title('Student Academic Situation by CGPA')\n",
    "plt.xlabel('CGPA')\n",
    "plt.ylabel('Count')\n"
   ]
  },
  {
   "cell_type": "code",
   "execution_count": 16,
   "metadata": {},
   "outputs": [],
   "source": [
    "# Capitalise Y in year\n",
    "\n",
    "pandaboi.DataFrame({'Current year': ['year 1', 'year 2', 'year 3', 'year 4']})\n",
    "df = df.replace({'Current year': {'year 1':'Year 1', 'year 2':'Year 2', 'year 3':'Year 3','year 4':'Year 4'}})"
   ]
  },
  {
   "cell_type": "code",
   "execution_count": 17,
   "metadata": {},
   "outputs": [
    {
     "data": {
      "text/plain": [
       "array(['Year 1', 'Year 2', 'Year 3', 'Year 4'], dtype=object)"
      ]
     },
     "execution_count": 17,
     "metadata": {},
     "output_type": "execute_result"
    }
   ],
   "source": [
    "# Check 'Year' has been updated  \n",
    "df['Current year'].unique()"
   ]
  },
  {
   "cell_type": "code",
   "execution_count": 18,
   "metadata": {},
   "outputs": [
    {
     "data": {
      "image/png": "[encoded data removed]",
      "text/plain": [
       "<Figure size 800x800 with 4 Axes>"
      ]
     },
     "metadata": {},
     "output_type": "display_data"
    }
   ],
   "source": [
    "# Filter the DataFrame by the \"year\" column and count the GPA by frequency for each year\n",
    "year_counts = df.groupby('Current year')['CGPA'].value_counts().sort_index()\n",
    "\n",
    "# Create a 4-subplot bar graph of the GPA counts by year\n",
    "fig, axes = plt.subplots(nrows=2, ncols=2, figsize=(8, 8))\n",
    "axes = axes.flatten()\n",
    "for i, year in enumerate(year_counts.index.levels[0]):\n",
    "    gpa_counts = year_counts[year]\n",
    "    gpa_counts.plot.bar(ax=axes[i])\n",
    "    axes[i].set_title(f'{year} Student Academic Situation by CGPA')\n",
    "    axes[i].set_xlabel('CGPA')\n",
    "    axes[i].set_ylabel('Count')\n",
    "\n",
    "plt.tight_layout()\n",
    "plt.show()"
   ]
  },
  {
   "cell_type": "code",
   "execution_count": 19,
   "metadata": {},
   "outputs": [
    {
     "data": {
      "image/png": "[encoded data removed]",
      "text/plain": [
       "<Figure size 600x600 with 1 Axes>"
      ]
     },
     "metadata": {},
     "output_type": "display_data"
    }
   ],
   "source": [
    "# Group the DataFrame by \"Anxiety\" and \"year\" and count the frequency of each combination\n",
    "anxiety_counts = df.groupby(['Anxiety', 'Current year']).size().unstack()\n",
    "\n",
    "# Swap the order of the \"Yes\" and \"No\" columns\n",
    "anxiety_counts = anxiety_counts[['Year 1', 'Year 2', 'Year 3', 'Year 4']][::-1]\n",
    "\n",
    "# Create a bar graph of the anxiety counts by year with \"yes\" on the left and \"no\" on the right\n",
    "ax = anxiety_counts.plot.bar(figsize=(6, 6), width=0.5)\n",
    "ax.set_title('Anxiety Counts by Year')\n",
    "ax.set_xlabel('Anxiety')\n",
    "ax.set_ylabel('Count')\n",
    "ax.legend(['Year 1', 'Year 2', 'Year 3', 'Year 4'], loc='upper right')\n",
    "plt.show()"
   ]
  },
  {
   "cell_type": "code",
   "execution_count": 20,
   "metadata": {},
   "outputs": [
    {
     "data": {
      "image/png": "[encoded data removed]",
      "text/plain": [
       "<Figure size 600x600 with 1 Axes>"
      ]
     },
     "metadata": {},
     "output_type": "display_data"
    }
   ],
   "source": [
    "# Group the DataFrame by \"Anxiety\" and \"year\" and count the frequency of each combination\n",
    "Depression_counts = df.groupby(['Depression', 'Current year']).size().unstack()\n",
    "\n",
    "# Swap the order of the \"Yes\" and \"No\" columns\n",
    "anxiety_counts = Depression_counts[['Year 1', 'Year 2', 'Year 3', 'Year 4']][::-1]\n",
    "\n",
    "# Create a bar graph of the anxiety counts by year with \"yes\" on the left and \"no\" on the right\n",
    "ax = anxiety_counts.plot.bar(figsize=(6, 6), width=0.5)\n",
    "ax.set_title('Depression Counts by Year')\n",
    "ax.set_xlabel('Depression')\n",
    "ax.set_ylabel('Count')\n",
    "ax.legend(['Year 1', 'Year 2', 'Year 3', 'Year 4'], loc='upper right')\n",
    "plt.show()"
   ]
  },
  {
   "cell_type": "code",
   "execution_count": 21,
   "metadata": {},
   "outputs": [
    {
     "data": {
      "image/png": "[encoded data removed]",
      "text/plain": [
       "<Figure size 600x600 with 1 Axes>"
      ]
     },
     "metadata": {},
     "output_type": "display_data"
    }
   ],
   "source": [
    "# Group the DataFrame by \"Anxiety\" and \"year\" and count the frequency of each combination\n",
    "Panic_counts = df.groupby(['Panic attacks', 'Current year']).size().unstack()\n",
    "\n",
    "# Swap the order of the \"Yes\" and \"No\" columns\n",
    "Panic_counts = Panic_counts[['Year 1', 'Year 2', 'Year 3', 'Year 4']][::-1]\n",
    "\n",
    "# Create a bar graph of the anxiety counts by year with \"yes\" on the left and \"no\" on the right\n",
    "ax = Panic_counts.plot.bar(figsize=(6, 6), width=0.5)\n",
    "ax.set_title('Panic attacks Counts by Year')\n",
    "ax.set_xlabel('Panic attacks')\n",
    "ax.set_ylabel('Count')\n",
    "ax.legend(['Year 1', 'Year 2', 'Year 3', 'Year 4'], loc='upper right')\n",
    "plt.show()"
   ]
  },
  {
   "attachments": {},
   "cell_type": "markdown",
   "metadata": {},
   "source": [
    "# Analysis"
   ]
  },
  {
   "cell_type": "code",
   "execution_count": 24,
   "metadata": {},
   "outputs": [
    {
     "name": "stdout",
     "output_type": "stream",
     "text": [
      "Contingency Table:\n",
      "Anxiety       No  Yes\n",
      "Current year         \n",
      "Year 1        29   14\n",
      "Year 2        16   10\n",
      "Year 3        16    8\n",
      "Year 4         6    2\n",
      "Chi-Squared Statistic: 0.5616169651584232\n",
      "Degrees of Freedom: 3\n",
      "P-Value: 0.9051602548389778\n",
      "Expected Frequencies:\n",
      "[[28.52475248 14.47524752]\n",
      " [17.24752475  8.75247525]\n",
      " [15.92079208  8.07920792]\n",
      " [ 5.30693069  2.69306931]]\n"
     ]
    }
   ],
   "source": [
    "# Create a contingency table of year and anxiety\n",
    "from scipy.stats import chi2_contingency\n",
    "\n",
    "# Create a contingency table of year and anxiety\n",
    "contingency_table = pandaboi.crosstab(df['Current year'], df['Anxiety'])\n",
    "\n",
    "# Perform chi-squared test of independence\n",
    "chi2_stat, p_value, dof, expected = chi2_contingency(contingency_table)\n",
    "\n",
    "# Print the contingency table, chi-squared statistic, degrees of freedom, and p-value\n",
    "print('Contingency Table:')\n",
    "print(contingency_table)\n",
    "\n",
    "print('Chi-Squared Statistic:', chi2_stat)\n",
    "print('Degrees of Freedom:', dof)\n",
    "print('P-Value:', p_value)\n",
    "print('Expected Frequencies:')\n",
    "print(expected)\n"
   ]
  },
  {
   "cell_type": "code",
   "execution_count": 25,
   "metadata": {},
   "outputs": [
    {
     "name": "stdout",
     "output_type": "stream",
     "text": [
      "Contingency Table:\n",
      "Depression    No  Yes\n",
      "Current year         \n",
      "Year 1        29   14\n",
      "Year 2        16   10\n",
      "Year 3        14   10\n",
      "Year 4         7    1\n",
      "Chi-Squared Statistic: 2.504973353519865\n",
      "Degrees of Freedom: 3\n",
      "P-Value: 0.4743929574625697\n",
      "Expected Frequencies:\n",
      "[[28.0990099  14.9009901 ]\n",
      " [16.99009901  9.00990099]\n",
      " [15.68316832  8.31683168]\n",
      " [ 5.22772277  2.77227723]]\n"
     ]
    }
   ],
   "source": [
    "# Create a contingency table of year and anxiety\n",
    "from scipy.stats import chi2_contingency\n",
    "\n",
    "# Create a contingency table of year and anxiety\n",
    "contingency_table_depression = pandaboi.crosstab(df['Current year'], df['Depression'])\n",
    "\n",
    "# Perform chi-squared test of independence\n",
    "chi2_stat, p_value, dof, expected = chi2_contingency(contingency_table_depression)\n",
    "\n",
    "# Print the contingency table, chi-squared statistic, degrees of freedom, and p-value\n",
    "print('Contingency Table:')\n",
    "print(contingency_table_depression)\n",
    "\n",
    "print('Chi-Squared Statistic:', chi2_stat)\n",
    "print('Degrees of Freedom:', dof)\n",
    "print('P-Value:', p_value)\n",
    "print('Expected Frequencies:')\n",
    "print(expected)\n"
   ]
  },
  {
   "cell_type": "code",
   "execution_count": 26,
   "metadata": {},
   "outputs": [
    {
     "name": "stdout",
     "output_type": "stream",
     "text": [
      "Contingency Table:\n",
      "Panic attacks  No  Yes\n",
      "Current year          \n",
      "Year 1         29   14\n",
      "Year 2         18    8\n",
      "Year 3         14   10\n",
      "Year 4          7    1\n",
      "Chi-Squared Statistic: 2.405537837865129\n",
      "Degrees of Freedom: 3\n",
      "P-Value: 0.4926045884686948\n",
      "Expected Frequencies:\n",
      "[[28.95049505 14.04950495]\n",
      " [17.5049505   8.4950495 ]\n",
      " [16.15841584  7.84158416]\n",
      " [ 5.38613861  2.61386139]]\n"
     ]
    }
   ],
   "source": [
    "# Create a contingency table of year and anxiety\n",
    "from scipy.stats import chi2_contingency\n",
    "\n",
    "# Create a contingency table of year and anxiety\n",
    "contingency_table_panic = pandaboi.crosstab(df['Current year'], df['Panic attacks'])\n",
    "\n",
    "# Perform chi-squared test of independence\n",
    "chi2_stat, p_value, dof, expected = chi2_contingency(contingency_table_panic)\n",
    "\n",
    "# Print the contingency table, chi-squared statistic, degrees of freedom, and p-value\n",
    "print('Contingency Table:')\n",
    "print(contingency_table_panic)\n",
    "\n",
    "print('Chi-Squared Statistic:', chi2_stat)\n",
    "print('Degrees of Freedom:', dof)\n",
    "print('P-Value:', p_value)\n",
    "print('Expected Frequencies:')\n",
    "print(expected)"
   ]
  }
 ],
 "metadata": {
  "kernelspec": {
   "display_name": "Python 3",
   "language": "python",
   "name": "python3"
  },
  "language_info": {
   "codemirror_mode": {
    "name": "ipython",
    "version": 3
   },
   "file_extension": ".py",
   "mimetype": "text/x-python",
   "name": "python",
   "nbconvert_exporter": "python",
   "pygments_lexer": "ipython3",
   "version": "3.11.2"
  },
  "orig_nbformat": 4,
  "vscode": {
   "interpreter": {
    "hash": "aee8b7b246df8f9039afb4144a1f6fd8d2ca17a180786b69acc140d282b71a49"
   }
  }
 },
 "nbformat": 4,
 "nbformat_minor": 2
}
